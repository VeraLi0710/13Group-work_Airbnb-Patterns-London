{
 "cells": [
  {
   "cell_type": "code",
   "execution_count": 38,
   "id": "ede21b3b-577c-4e64-b14a-4cdc64462b0c",
   "metadata": {
    "scrolled": true
   },
   "outputs": [],
   "source": [
    "#| echo: false\n",
    "import pandas as pd  \n",
    "import numpy as np  \n",
    "from scipy.stats import pearsonr, pointbiserialr, chi2_contingency  \n",
    "import matplotlib.pyplot as plt  \n",
    "from matplotlib.font_manager import FontProperties  \n",
    "\n",
    "# Read the data  \n",
    "file_path = 'data/listings.csv'    #which is the path in this repository  \n",
    "airbnb_data = pd.read_csv(file_path)  "
   ]
  },
  {
   "cell_type": "code",
   "execution_count": 39,
   "id": "3a60204d-93e8-4f8b-b503-6d574bd04b81",
   "metadata": {},
   "outputs": [],
   "source": [
    "# Calculate the estimation of nights booked for each listing\n",
    "airbnb_data = airbnb_data[airbnb_data['availability_365'] > 0] \n",
    "airbnb_data['estimated_nights_booked'] = airbnb_data['reviews_per_month'] * 12 * airbnb_data['minimum_nights'] * 2 "
   ]
  },
  {
   "cell_type": "code",
   "execution_count": 40,
   "id": "40780dff-4d6e-447f-bb83-1bad5522f06d",
   "metadata": {},
   "outputs": [
    {
     "name": "stdout",
     "output_type": "stream",
     "text": [
      "neighbourhood\n",
      "Westminster               7141\n",
      "Kensington and Chelsea    4324\n",
      "Tower Hamlets             4191\n",
      "Camden                    3831\n",
      "Hackney                   3241\n",
      "Southwark                 2917\n",
      "Wandsworth                2803\n",
      "Lambeth                   2779\n",
      "Islington                 2576\n",
      "Hammersmith and Fulham    2526\n",
      "Brent                     1913\n",
      "Barnet                    1628\n",
      "Lewisham                  1625\n",
      "Newham                    1572\n",
      "Ealing                    1502\n",
      "Haringey                  1457\n",
      "Greenwich                 1402\n",
      "Waltham Forest            1167\n",
      "Croydon                   1167\n",
      "Merton                     933\n",
      "Hounslow                   879\n",
      "Richmond upon Thames       832\n",
      "Hillingdon                 673\n",
      "Redbridge                  650\n",
      "Enfield                    636\n",
      "Bromley                    576\n",
      "Barking and Dagenham       485\n",
      "Kingston upon Thames       480\n",
      "Bexley                     441\n",
      "City of London             421\n",
      "Harrow                     392\n",
      "Havering                   336\n",
      "Sutton                     285\n",
      "Name: count, dtype: int64\n",
      "neighbourhood\n",
      "Westminster               1680\n",
      "Tower Hamlets             1037\n",
      "Camden                     919\n",
      "Kensington and Chelsea     904\n",
      "Southwark                  720\n",
      "Hackney                    705\n",
      "Lambeth                    643\n",
      "Islington                  596\n",
      "Hammersmith and Fulham     540\n",
      "Wandsworth                 522\n",
      "Brent                      373\n",
      "Lewisham                   276\n",
      "Haringey                   268\n",
      "Ealing                     255\n",
      "Barnet                     243\n",
      "Newham                     242\n",
      "Greenwich                  237\n",
      "Croydon                    193\n",
      "Waltham Forest             166\n",
      "Richmond upon Thames       152\n",
      "City of London             142\n",
      "Hounslow                   122\n",
      "Merton                     101\n",
      "Bromley                     90\n",
      "Kingston upon Thames        84\n",
      "Enfield                     73\n",
      "Barking and Dagenham        68\n",
      "Harrow                      67\n",
      "Hillingdon                  65\n",
      "Redbridge                   65\n",
      "Sutton                      39\n",
      "Bexley                      39\n",
      "Havering                    36\n",
      "Name: count, dtype: int64\n"
     ]
    }
   ],
   "source": [
    "#Data cleaning\n",
    "# Replace NaN with 0\n",
    "airbnb_data['estimated_nights_booked'] = airbnb_data['estimated_nights_booked'].fillna(0)\n",
    "\n",
    "# Convert the column to integers\n",
    "airbnb_data['estimated_nights_booked'] = airbnb_data['estimated_nights_booked'].astype(int)\n",
    "\n",
    "#Count the number of listings in each borough using 'neighbourhood' column\n",
    "borough_counts = airbnb_data['neighbourhood'].value_counts()\n",
    "print(borough_counts)\n",
    "\n",
    "# Filter the DataFrame to include only rows where estimated_nights_booked is greater than 90\n",
    "filtered_data = airbnb_data[airbnb_data['estimated_nights_booked'] > 90]\n",
    "\n",
    "#Count the number of listings with estimation of nights booked larger than 90 days in each borough\n",
    "borough_counts_90 = filtered_data['neighbourhood'].value_counts()\n",
    "print(borough_counts_90)"
   ]
  },
  {
   "cell_type": "code",
   "execution_count": 41,
   "id": "a2aac322-9c41-4eeb-b90e-510b13c0b927",
   "metadata": {},
   "outputs": [
    {
     "name": "stdout",
     "output_type": "stream",
     "text": [
      "                        Total_listings  More_than_90  Ratio_of_more_than_90\n",
      "Borough_name                                                               \n",
      "Westminster                       7141          1680                 0.2353\n",
      "Kensington and Chelsea            4324           904                 0.2091\n",
      "Tower Hamlets                     4191          1037                 0.2474\n",
      "Camden                            3831           919                 0.2399\n",
      "Hackney                           3241           705                 0.2175\n",
      "Southwark                         2917           720                 0.2468\n",
      "Wandsworth                        2803           522                 0.1862\n",
      "Lambeth                           2779           643                 0.2314\n",
      "Islington                         2576           596                 0.2314\n",
      "Hammersmith and Fulham            2526           540                 0.2138\n",
      "Brent                             1913           373                 0.1950\n",
      "Barnet                            1628           243                 0.1493\n",
      "Lewisham                          1625           276                 0.1698\n",
      "Newham                            1572           242                 0.1539\n",
      "Ealing                            1502           255                 0.1698\n",
      "Haringey                          1457           268                 0.1839\n",
      "Greenwich                         1402           237                 0.1690\n",
      "Waltham Forest                    1167           166                 0.1422\n",
      "Croydon                           1167           193                 0.1654\n",
      "Merton                             933           101                 0.1083\n",
      "Hounslow                           879           122                 0.1388\n",
      "Richmond upon Thames               832           152                 0.1827\n",
      "Hillingdon                         673            65                 0.0966\n",
      "Redbridge                          650            65                 0.1000\n",
      "Enfield                            636            73                 0.1148\n",
      "Bromley                            576            90                 0.1562\n",
      "Barking and Dagenham               485            68                 0.1402\n",
      "Kingston upon Thames               480            84                 0.1750\n",
      "Bexley                             441            39                 0.0884\n",
      "City of London                     421           142                 0.3373\n",
      "Harrow                             392            67                 0.1709\n",
      "Havering                           336            36                 0.1071\n",
      "Sutton                             285            39                 0.1368\n"
     ]
    }
   ],
   "source": [
    "# Merge the two series into a DataFrame\n",
    "combined_data = pd.concat([borough_counts, borough_counts_90], axis=1, keys=['Total_listings', 'More_than_90'])\n",
    "\n",
    "# Calculate the ratio of listings with more than 90 booked nights per total listings\n",
    "combined_data['Ratio_of_more_than_90'] = combined_data['More_than_90'] / combined_data['Total_listings']\n",
    "\n",
    "# Fill any NaN values that might occur if there are boroughs with no listings > 90 nights\n",
    "combined_data['Ratio_of_more_than_90'] = combined_data['Ratio_of_more_than_90'].fillna(0)\n",
    "\n",
    "# Data formatting and round to four decimal places\n",
    "combined_data['Ratio_of_more_than_90'] = combined_data['Ratio_of_more_than_90'].apply(lambda x: round(x, 4))\n",
    "\n",
    "# Rename the index label to 'Borough_name'\n",
    "combined_data.index.rename('Borough_name', inplace=True)\n",
    "\n",
    "# Output the combined DataFrame\n",
    "print(combined_data)"
   ]
  },
  {
   "cell_type": "code",
   "execution_count": 42,
   "id": "7199af4e-b7c3-4764-b5ff-15e0ec135bff",
   "metadata": {},
   "outputs": [],
   "source": [
    "# Load the borough codes\n",
    "borough_code_file_path = 'data/borough_name_code.csv'\n",
    "borough_codes = pd.read_csv(borough_code_file_path)\n",
    "\n",
    "# Reset index in combined_data to turn the index into a regular column\n",
    "combined_data.reset_index(inplace=True)\n",
    "borough_codes.reset_index(inplace=True)\n",
    "\n",
    "#Combine the ratio data and borough name with borough code by borough name\n",
    "combined_data = pd.merge(combined_data, borough_codes[['Borough_name', 'Borough_code']], on='Borough_name', how='left')\n",
    "\n",
    "# Set 'Borough_name' back as the index\n",
    "combined_data.set_index('Borough_name', inplace=True)\n",
    "\n",
    "# Save the updated DataFrame\n",
    "combined_data.to_csv('data/borough_listings_ratio.csv', index=True)"
   ]
  },
  {
   "cell_type": "code",
   "execution_count": 43,
   "id": "a021002b-270e-42f3-a7fe-09887e9d57eb",
   "metadata": {},
   "outputs": [],
   "source": [
    "import geopandas as gpd\n",
    "import pandas as pd\n",
    "\n",
    "# Load data\n",
    "ratio = pd.read_csv(\"data/borough_listings_ratio.csv\")\n",
    "borough = gpd.read_file(\"data/statistical-gis-boundaries-london/ESRI/London_Borough_Excluding_MHW.shp\")"
   ]
  },
  {
   "cell_type": "code",
   "execution_count": 44,
   "id": "275f6f86-5f27-4ff5-b90c-9bfd0f000013",
   "metadata": {},
   "outputs": [],
   "source": [
    "borough_ratio = borough.merge(ratio, left_on=\"GSS_CODE\", right_on=\"Borough_code\")"
   ]
  },
  {
   "cell_type": "code",
   "execution_count": 46,
   "id": "d7bf6f09-eea6-43f5-841d-d1f68b5d0711",
   "metadata": {},
   "outputs": [
    {
     "name": "stdout",
     "output_type": "stream",
     "text": [
      "Moran's I: 0.45838750794577404, p-value: 0.001\n"
     ]
    },
    {
     "name": "stderr",
     "output_type": "stream",
     "text": [
      "/tmp/ipykernel_262/3594702368.py:5: FutureWarning: `use_index` defaults to False but will default to True in future. Set True/False directly to control this behavior and silence this warning\n",
      "  w = Queen.from_dataframe(borough_ratio)\n"
     ]
    }
   ],
   "source": [
    "from libpysal.weights import Queen\n",
    "from esda import Moran\n",
    "\n",
    "# Create a spatial weights matrix\n",
    "w = Queen.from_dataframe(borough_ratio)\n",
    "\n",
    "# Calculate Moran's I\n",
    "y = borough_ratio[\"Ratio_of_more_than_90\"] \n",
    "moran = Moran(y, w)\n",
    "\n",
    "# Display results\n",
    "print(f\"Moran's I: {moran.I}, p-value: {moran.p_sim}\")"
   ]
  },
  {
   "cell_type": "code",
   "execution_count": 49,
   "id": "9a321025-ba97-400e-b943-314882bf53f5",
   "metadata": {},
   "outputs": [
    {
     "ename": "AttributeError",
     "evalue": "PolyCollection.set() got an unexpected keyword argument 'column'",
     "output_type": "error",
     "traceback": [
      "\u001b[0;31m---------------------------------------------------------------------------\u001b[0m",
      "\u001b[0;31mAttributeError\u001b[0m                            Traceback (most recent call last)",
      "Cell \u001b[0;32mIn[49], line 4\u001b[0m\n\u001b[1;32m      1\u001b[0m \u001b[38;5;28;01mfrom\u001b[39;00m \u001b[38;5;21;01msplot\u001b[39;00m\u001b[38;5;21;01m.\u001b[39;00m\u001b[38;5;21;01mesda\u001b[39;00m \u001b[38;5;28;01mimport\u001b[39;00m plot_moran\n\u001b[1;32m      3\u001b[0m \u001b[38;5;66;03m# Cluster map visualization\u001b[39;00m\n\u001b[0;32m----> 4\u001b[0m fig, ax \u001b[38;5;241m=\u001b[39m \u001b[43mplot_moran\u001b[49m\u001b[43m(\u001b[49m\u001b[43mmoran\u001b[49m\u001b[43m,\u001b[49m\u001b[43m \u001b[49m\u001b[43mborough_ratio\u001b[49m\u001b[43m,\u001b[49m\u001b[43m \u001b[49m\u001b[43mcolumn\u001b[49m\u001b[38;5;241;43m=\u001b[39;49m\u001b[38;5;124;43m\"\u001b[39;49m\u001b[38;5;124;43mRatio_of_more_than_90\u001b[39;49m\u001b[38;5;124;43m\"\u001b[39;49m\u001b[43m)\u001b[49m\n\u001b[1;32m      5\u001b[0m ax\u001b[38;5;241m.\u001b[39mset_title(\u001b[38;5;124m\"\u001b[39m\u001b[38;5;124mMoran\u001b[39m\u001b[38;5;124m'\u001b[39m\u001b[38;5;124ms I Cluster Map\u001b[39m\u001b[38;5;124m\"\u001b[39m)\n\u001b[1;32m      6\u001b[0m plt\u001b[38;5;241m.\u001b[39mshow()\n",
      "File \u001b[0;32m/opt/conda/lib/python3.11/site-packages/splot/_viz_esda_mpl.py:463\u001b[0m, in \u001b[0;36mplot_moran\u001b[0;34m(moran, zstandard, aspect_equal, scatter_kwds, fitline_kwds, **kwargs)\u001b[0m\n\u001b[1;32m    461\u001b[0m figsize \u001b[38;5;241m=\u001b[39m kwargs\u001b[38;5;241m.\u001b[39mpop(\u001b[38;5;124m\"\u001b[39m\u001b[38;5;124mfigsize\u001b[39m\u001b[38;5;124m\"\u001b[39m, (\u001b[38;5;241m10\u001b[39m, \u001b[38;5;241m4\u001b[39m))\n\u001b[1;32m    462\u001b[0m fig, axs \u001b[38;5;241m=\u001b[39m plt\u001b[38;5;241m.\u001b[39msubplots(\u001b[38;5;241m1\u001b[39m, \u001b[38;5;241m2\u001b[39m, figsize\u001b[38;5;241m=\u001b[39mfigsize, subplot_kw\u001b[38;5;241m=\u001b[39m{\u001b[38;5;124m\"\u001b[39m\u001b[38;5;124maspect\u001b[39m\u001b[38;5;124m\"\u001b[39m: \u001b[38;5;124m\"\u001b[39m\u001b[38;5;124mequal\u001b[39m\u001b[38;5;124m\"\u001b[39m})\n\u001b[0;32m--> 463\u001b[0m \u001b[43mplot_moran_simulation\u001b[49m\u001b[43m(\u001b[49m\u001b[43mmoran\u001b[49m\u001b[43m,\u001b[49m\u001b[43m \u001b[49m\u001b[43max\u001b[49m\u001b[38;5;241;43m=\u001b[39;49m\u001b[43maxs\u001b[49m\u001b[43m[\u001b[49m\u001b[38;5;241;43m0\u001b[39;49m\u001b[43m]\u001b[49m\u001b[43m,\u001b[49m\u001b[43m \u001b[49m\u001b[43mfitline_kwds\u001b[49m\u001b[38;5;241;43m=\u001b[39;49m\u001b[43mfitline_kwds\u001b[49m\u001b[43m,\u001b[49m\u001b[43m \u001b[49m\u001b[38;5;241;43m*\u001b[39;49m\u001b[38;5;241;43m*\u001b[39;49m\u001b[43mkwargs\u001b[49m\u001b[43m)\u001b[49m\n\u001b[1;32m    464\u001b[0m moran_scatterplot(\n\u001b[1;32m    465\u001b[0m     moran,\n\u001b[1;32m    466\u001b[0m     zstandard\u001b[38;5;241m=\u001b[39mzstandard,\n\u001b[0;32m   (...)\u001b[0m\n\u001b[1;32m    469\u001b[0m     fitline_kwds\u001b[38;5;241m=\u001b[39mfitline_kwds,\n\u001b[1;32m    470\u001b[0m )\n\u001b[1;32m    471\u001b[0m axs[\u001b[38;5;241m0\u001b[39m]\u001b[38;5;241m.\u001b[39mset(aspect\u001b[38;5;241m=\u001b[39m\u001b[38;5;124m\"\u001b[39m\u001b[38;5;124mauto\u001b[39m\u001b[38;5;124m\"\u001b[39m)\n",
      "File \u001b[0;32m/opt/conda/lib/python3.11/site-packages/splot/_viz_esda_mpl.py:376\u001b[0m, in \u001b[0;36mplot_moran_simulation\u001b[0;34m(moran, aspect_equal, ax, fitline_kwds, **kwargs)\u001b[0m\n\u001b[1;32m    374\u001b[0m shade \u001b[38;5;241m=\u001b[39m kwargs\u001b[38;5;241m.\u001b[39mpop(\u001b[38;5;124m\"\u001b[39m\u001b[38;5;124mshade\u001b[39m\u001b[38;5;124m\"\u001b[39m, \u001b[38;5;28;01mTrue\u001b[39;00m)\n\u001b[1;32m    375\u001b[0m color \u001b[38;5;241m=\u001b[39m kwargs\u001b[38;5;241m.\u001b[39mpop(\u001b[38;5;124m\"\u001b[39m\u001b[38;5;124mcolor\u001b[39m\u001b[38;5;124m\"\u001b[39m, splot_colors[\u001b[38;5;124m\"\u001b[39m\u001b[38;5;124mmoran_base\u001b[39m\u001b[38;5;124m\"\u001b[39m])\n\u001b[0;32m--> 376\u001b[0m \u001b[43msbn\u001b[49m\u001b[38;5;241;43m.\u001b[39;49m\u001b[43mkdeplot\u001b[49m\u001b[43m(\u001b[49m\u001b[43mmoran\u001b[49m\u001b[38;5;241;43m.\u001b[39;49m\u001b[43msim\u001b[49m\u001b[43m,\u001b[49m\u001b[43m \u001b[49m\u001b[43mfill\u001b[49m\u001b[38;5;241;43m=\u001b[39;49m\u001b[43mshade\u001b[49m\u001b[43m,\u001b[49m\u001b[43m \u001b[49m\u001b[43mcolor\u001b[49m\u001b[38;5;241;43m=\u001b[39;49m\u001b[43mcolor\u001b[49m\u001b[43m,\u001b[49m\u001b[43m \u001b[49m\u001b[43max\u001b[49m\u001b[38;5;241;43m=\u001b[39;49m\u001b[43max\u001b[49m\u001b[43m,\u001b[49m\u001b[43m \u001b[49m\u001b[38;5;241;43m*\u001b[39;49m\u001b[38;5;241;43m*\u001b[39;49m\u001b[43mkwargs\u001b[49m\u001b[43m)\u001b[49m\n\u001b[1;32m    378\u001b[0m \u001b[38;5;66;03m# customize plot\u001b[39;00m\n\u001b[1;32m    379\u001b[0m fitline_kwds\u001b[38;5;241m.\u001b[39msetdefault(\u001b[38;5;124m\"\u001b[39m\u001b[38;5;124mcolor\u001b[39m\u001b[38;5;124m\"\u001b[39m, splot_colors[\u001b[38;5;124m\"\u001b[39m\u001b[38;5;124mmoran_fit\u001b[39m\u001b[38;5;124m\"\u001b[39m])\n",
      "File \u001b[0;32m/opt/conda/lib/python3.11/site-packages/seaborn/distributions.py:1701\u001b[0m, in \u001b[0;36mkdeplot\u001b[0;34m(data, x, y, hue, weights, palette, hue_order, hue_norm, color, fill, multiple, common_norm, common_grid, cumulative, bw_method, bw_adjust, warn_singular, log_scale, levels, thresh, gridsize, cut, clip, legend, cbar, cbar_ax, cbar_kws, ax, **kwargs)\u001b[0m\n\u001b[1;32m   1697\u001b[0m \u001b[38;5;28;01mif\u001b[39;00m p\u001b[38;5;241m.\u001b[39munivariate:\n\u001b[1;32m   1699\u001b[0m     plot_kws \u001b[38;5;241m=\u001b[39m kwargs\u001b[38;5;241m.\u001b[39mcopy()\n\u001b[0;32m-> 1701\u001b[0m     \u001b[43mp\u001b[49m\u001b[38;5;241;43m.\u001b[39;49m\u001b[43mplot_univariate_density\u001b[49m\u001b[43m(\u001b[49m\n\u001b[1;32m   1702\u001b[0m \u001b[43m        \u001b[49m\u001b[43mmultiple\u001b[49m\u001b[38;5;241;43m=\u001b[39;49m\u001b[43mmultiple\u001b[49m\u001b[43m,\u001b[49m\n\u001b[1;32m   1703\u001b[0m \u001b[43m        \u001b[49m\u001b[43mcommon_norm\u001b[49m\u001b[38;5;241;43m=\u001b[39;49m\u001b[43mcommon_norm\u001b[49m\u001b[43m,\u001b[49m\n\u001b[1;32m   1704\u001b[0m \u001b[43m        \u001b[49m\u001b[43mcommon_grid\u001b[49m\u001b[38;5;241;43m=\u001b[39;49m\u001b[43mcommon_grid\u001b[49m\u001b[43m,\u001b[49m\n\u001b[1;32m   1705\u001b[0m \u001b[43m        \u001b[49m\u001b[43mfill\u001b[49m\u001b[38;5;241;43m=\u001b[39;49m\u001b[43mfill\u001b[49m\u001b[43m,\u001b[49m\n\u001b[1;32m   1706\u001b[0m \u001b[43m        \u001b[49m\u001b[43mcolor\u001b[49m\u001b[38;5;241;43m=\u001b[39;49m\u001b[43mcolor\u001b[49m\u001b[43m,\u001b[49m\n\u001b[1;32m   1707\u001b[0m \u001b[43m        \u001b[49m\u001b[43mlegend\u001b[49m\u001b[38;5;241;43m=\u001b[39;49m\u001b[43mlegend\u001b[49m\u001b[43m,\u001b[49m\n\u001b[1;32m   1708\u001b[0m \u001b[43m        \u001b[49m\u001b[43mwarn_singular\u001b[49m\u001b[38;5;241;43m=\u001b[39;49m\u001b[43mwarn_singular\u001b[49m\u001b[43m,\u001b[49m\n\u001b[1;32m   1709\u001b[0m \u001b[43m        \u001b[49m\u001b[43mestimate_kws\u001b[49m\u001b[38;5;241;43m=\u001b[39;49m\u001b[43mestimate_kws\u001b[49m\u001b[43m,\u001b[49m\n\u001b[1;32m   1710\u001b[0m \u001b[43m        \u001b[49m\u001b[38;5;241;43m*\u001b[39;49m\u001b[38;5;241;43m*\u001b[39;49m\u001b[43mplot_kws\u001b[49m\u001b[43m,\u001b[49m\n\u001b[1;32m   1711\u001b[0m \u001b[43m    \u001b[49m\u001b[43m)\u001b[49m\n\u001b[1;32m   1713\u001b[0m \u001b[38;5;28;01melse\u001b[39;00m:\n\u001b[1;32m   1715\u001b[0m     p\u001b[38;5;241m.\u001b[39mplot_bivariate_density(\n\u001b[1;32m   1716\u001b[0m         common_norm\u001b[38;5;241m=\u001b[39mcommon_norm,\n\u001b[1;32m   1717\u001b[0m         fill\u001b[38;5;241m=\u001b[39mfill,\n\u001b[0;32m   (...)\u001b[0m\n\u001b[1;32m   1727\u001b[0m         \u001b[38;5;241m*\u001b[39m\u001b[38;5;241m*\u001b[39mkwargs,\n\u001b[1;32m   1728\u001b[0m     )\n",
      "File \u001b[0;32m/opt/conda/lib/python3.11/site-packages/seaborn/distributions.py:988\u001b[0m, in \u001b[0;36m_DistributionPlotter.plot_univariate_density\u001b[0;34m(self, multiple, common_norm, common_grid, warn_singular, fill, color, legend, estimate_kws, **plot_kws)\u001b[0m\n\u001b[1;32m    985\u001b[0m \u001b[38;5;28;01mif\u001b[39;00m \u001b[38;5;124m\"\u001b[39m\u001b[38;5;124mx\u001b[39m\u001b[38;5;124m\"\u001b[39m \u001b[38;5;129;01min\u001b[39;00m \u001b[38;5;28mself\u001b[39m\u001b[38;5;241m.\u001b[39mvariables:\n\u001b[1;32m    987\u001b[0m     \u001b[38;5;28;01mif\u001b[39;00m fill:\n\u001b[0;32m--> 988\u001b[0m         artist \u001b[38;5;241m=\u001b[39m \u001b[43max\u001b[49m\u001b[38;5;241;43m.\u001b[39;49m\u001b[43mfill_between\u001b[49m\u001b[43m(\u001b[49m\u001b[43msupport\u001b[49m\u001b[43m,\u001b[49m\u001b[43m \u001b[49m\u001b[43mfill_from\u001b[49m\u001b[43m,\u001b[49m\u001b[43m \u001b[49m\u001b[43mdensity\u001b[49m\u001b[43m,\u001b[49m\u001b[43m \u001b[49m\u001b[38;5;241;43m*\u001b[39;49m\u001b[38;5;241;43m*\u001b[39;49m\u001b[43martist_kws\u001b[49m\u001b[43m)\u001b[49m\n\u001b[1;32m    990\u001b[0m     \u001b[38;5;28;01melse\u001b[39;00m:\n\u001b[1;32m    991\u001b[0m         artist, \u001b[38;5;241m=\u001b[39m ax\u001b[38;5;241m.\u001b[39mplot(support, density, \u001b[38;5;241m*\u001b[39m\u001b[38;5;241m*\u001b[39martist_kws)\n",
      "File \u001b[0;32m/opt/conda/lib/python3.11/site-packages/matplotlib/__init__.py:1465\u001b[0m, in \u001b[0;36m_preprocess_data.<locals>.inner\u001b[0;34m(ax, data, *args, **kwargs)\u001b[0m\n\u001b[1;32m   1462\u001b[0m \u001b[38;5;129m@functools\u001b[39m\u001b[38;5;241m.\u001b[39mwraps(func)\n\u001b[1;32m   1463\u001b[0m \u001b[38;5;28;01mdef\u001b[39;00m \u001b[38;5;21minner\u001b[39m(ax, \u001b[38;5;241m*\u001b[39margs, data\u001b[38;5;241m=\u001b[39m\u001b[38;5;28;01mNone\u001b[39;00m, \u001b[38;5;241m*\u001b[39m\u001b[38;5;241m*\u001b[39mkwargs):\n\u001b[1;32m   1464\u001b[0m     \u001b[38;5;28;01mif\u001b[39;00m data \u001b[38;5;129;01mis\u001b[39;00m \u001b[38;5;28;01mNone\u001b[39;00m:\n\u001b[0;32m-> 1465\u001b[0m         \u001b[38;5;28;01mreturn\u001b[39;00m \u001b[43mfunc\u001b[49m\u001b[43m(\u001b[49m\u001b[43max\u001b[49m\u001b[43m,\u001b[49m\u001b[43m \u001b[49m\u001b[38;5;241;43m*\u001b[39;49m\u001b[38;5;28;43mmap\u001b[39;49m\u001b[43m(\u001b[49m\u001b[43msanitize_sequence\u001b[49m\u001b[43m,\u001b[49m\u001b[43m \u001b[49m\u001b[43margs\u001b[49m\u001b[43m)\u001b[49m\u001b[43m,\u001b[49m\u001b[43m \u001b[49m\u001b[38;5;241;43m*\u001b[39;49m\u001b[38;5;241;43m*\u001b[39;49m\u001b[43mkwargs\u001b[49m\u001b[43m)\u001b[49m\n\u001b[1;32m   1467\u001b[0m     bound \u001b[38;5;241m=\u001b[39m new_sig\u001b[38;5;241m.\u001b[39mbind(ax, \u001b[38;5;241m*\u001b[39margs, \u001b[38;5;241m*\u001b[39m\u001b[38;5;241m*\u001b[39mkwargs)\n\u001b[1;32m   1468\u001b[0m     auto_label \u001b[38;5;241m=\u001b[39m (bound\u001b[38;5;241m.\u001b[39marguments\u001b[38;5;241m.\u001b[39mget(label_namer)\n\u001b[1;32m   1469\u001b[0m                   \u001b[38;5;129;01mor\u001b[39;00m bound\u001b[38;5;241m.\u001b[39mkwargs\u001b[38;5;241m.\u001b[39mget(label_namer))\n",
      "File \u001b[0;32m/opt/conda/lib/python3.11/site-packages/matplotlib/axes/_axes.py:5512\u001b[0m, in \u001b[0;36mAxes.fill_between\u001b[0;34m(self, x, y1, y2, where, interpolate, step, **kwargs)\u001b[0m\n\u001b[1;32m   5510\u001b[0m \u001b[38;5;28;01mdef\u001b[39;00m \u001b[38;5;21mfill_between\u001b[39m(\u001b[38;5;28mself\u001b[39m, x, y1, y2\u001b[38;5;241m=\u001b[39m\u001b[38;5;241m0\u001b[39m, where\u001b[38;5;241m=\u001b[39m\u001b[38;5;28;01mNone\u001b[39;00m, interpolate\u001b[38;5;241m=\u001b[39m\u001b[38;5;28;01mFalse\u001b[39;00m,\n\u001b[1;32m   5511\u001b[0m                  step\u001b[38;5;241m=\u001b[39m\u001b[38;5;28;01mNone\u001b[39;00m, \u001b[38;5;241m*\u001b[39m\u001b[38;5;241m*\u001b[39mkwargs):\n\u001b[0;32m-> 5512\u001b[0m     \u001b[38;5;28;01mreturn\u001b[39;00m \u001b[38;5;28;43mself\u001b[39;49m\u001b[38;5;241;43m.\u001b[39;49m\u001b[43m_fill_between_x_or_y\u001b[49m\u001b[43m(\u001b[49m\n\u001b[1;32m   5513\u001b[0m \u001b[43m        \u001b[49m\u001b[38;5;124;43m\"\u001b[39;49m\u001b[38;5;124;43mx\u001b[39;49m\u001b[38;5;124;43m\"\u001b[39;49m\u001b[43m,\u001b[49m\u001b[43m \u001b[49m\u001b[43mx\u001b[49m\u001b[43m,\u001b[49m\u001b[43m \u001b[49m\u001b[43my1\u001b[49m\u001b[43m,\u001b[49m\u001b[43m \u001b[49m\u001b[43my2\u001b[49m\u001b[43m,\u001b[49m\n\u001b[1;32m   5514\u001b[0m \u001b[43m        \u001b[49m\u001b[43mwhere\u001b[49m\u001b[38;5;241;43m=\u001b[39;49m\u001b[43mwhere\u001b[49m\u001b[43m,\u001b[49m\u001b[43m \u001b[49m\u001b[43minterpolate\u001b[49m\u001b[38;5;241;43m=\u001b[39;49m\u001b[43minterpolate\u001b[49m\u001b[43m,\u001b[49m\u001b[43m \u001b[49m\u001b[43mstep\u001b[49m\u001b[38;5;241;43m=\u001b[39;49m\u001b[43mstep\u001b[49m\u001b[43m,\u001b[49m\u001b[43m \u001b[49m\u001b[38;5;241;43m*\u001b[39;49m\u001b[38;5;241;43m*\u001b[39;49m\u001b[43mkwargs\u001b[49m\u001b[43m)\u001b[49m\n",
      "File \u001b[0;32m/opt/conda/lib/python3.11/site-packages/matplotlib/axes/_axes.py:5493\u001b[0m, in \u001b[0;36mAxes._fill_between_x_or_y\u001b[0;34m(self, ind_dir, ind, dep1, dep2, where, interpolate, step, **kwargs)\u001b[0m\n\u001b[1;32m   5489\u001b[0m         pts \u001b[38;5;241m=\u001b[39m pts[:, ::\u001b[38;5;241m-\u001b[39m\u001b[38;5;241m1\u001b[39m]\n\u001b[1;32m   5491\u001b[0m     polys\u001b[38;5;241m.\u001b[39mappend(pts)\n\u001b[0;32m-> 5493\u001b[0m collection \u001b[38;5;241m=\u001b[39m \u001b[43mmcoll\u001b[49m\u001b[38;5;241;43m.\u001b[39;49m\u001b[43mPolyCollection\u001b[49m\u001b[43m(\u001b[49m\u001b[43mpolys\u001b[49m\u001b[43m,\u001b[49m\u001b[43m \u001b[49m\u001b[38;5;241;43m*\u001b[39;49m\u001b[38;5;241;43m*\u001b[39;49m\u001b[43mkwargs\u001b[49m\u001b[43m)\u001b[49m\n\u001b[1;32m   5495\u001b[0m \u001b[38;5;66;03m# now update the datalim and autoscale\u001b[39;00m\n\u001b[1;32m   5496\u001b[0m pts \u001b[38;5;241m=\u001b[39m np\u001b[38;5;241m.\u001b[39mvstack([np\u001b[38;5;241m.\u001b[39mhstack([ind[where, \u001b[38;5;28;01mNone\u001b[39;00m], dep1[where, \u001b[38;5;28;01mNone\u001b[39;00m]]),\n\u001b[1;32m   5497\u001b[0m                  np\u001b[38;5;241m.\u001b[39mhstack([ind[where, \u001b[38;5;28;01mNone\u001b[39;00m], dep2[where, \u001b[38;5;28;01mNone\u001b[39;00m]])])\n",
      "File \u001b[0;32m/opt/conda/lib/python3.11/site-packages/matplotlib/collections.py:1198\u001b[0m, in \u001b[0;36mPolyCollection.__init__\u001b[0;34m(self, verts, sizes, closed, **kwargs)\u001b[0m\n\u001b[1;32m   1178\u001b[0m \u001b[38;5;28;01mdef\u001b[39;00m \u001b[38;5;21m__init__\u001b[39m(\u001b[38;5;28mself\u001b[39m, verts, sizes\u001b[38;5;241m=\u001b[39m\u001b[38;5;28;01mNone\u001b[39;00m, \u001b[38;5;241m*\u001b[39m, closed\u001b[38;5;241m=\u001b[39m\u001b[38;5;28;01mTrue\u001b[39;00m, \u001b[38;5;241m*\u001b[39m\u001b[38;5;241m*\u001b[39mkwargs):\n\u001b[1;32m   1179\u001b[0m \u001b[38;5;250m    \u001b[39m\u001b[38;5;124;03m\"\"\"\u001b[39;00m\n\u001b[1;32m   1180\u001b[0m \u001b[38;5;124;03m    Parameters\u001b[39;00m\n\u001b[1;32m   1181\u001b[0m \u001b[38;5;124;03m    ----------\u001b[39;00m\n\u001b[0;32m   (...)\u001b[0m\n\u001b[1;32m   1196\u001b[0m \u001b[38;5;124;03m        Forwarded to `.Collection`.\u001b[39;00m\n\u001b[1;32m   1197\u001b[0m \u001b[38;5;124;03m    \"\"\"\u001b[39;00m\n\u001b[0;32m-> 1198\u001b[0m     \u001b[38;5;28;43msuper\u001b[39;49m\u001b[43m(\u001b[49m\u001b[43m)\u001b[49m\u001b[38;5;241;43m.\u001b[39;49m\u001b[38;5;21;43m__init__\u001b[39;49m\u001b[43m(\u001b[49m\u001b[38;5;241;43m*\u001b[39;49m\u001b[38;5;241;43m*\u001b[39;49m\u001b[43mkwargs\u001b[49m\u001b[43m)\u001b[49m\n\u001b[1;32m   1199\u001b[0m     \u001b[38;5;28mself\u001b[39m\u001b[38;5;241m.\u001b[39mset_sizes(sizes)\n\u001b[1;32m   1200\u001b[0m     \u001b[38;5;28mself\u001b[39m\u001b[38;5;241m.\u001b[39mset_verts(verts, closed)\n",
      "File \u001b[0;32m/opt/conda/lib/python3.11/site-packages/matplotlib/collections.py:203\u001b[0m, in \u001b[0;36mCollection.__init__\u001b[0;34m(self, edgecolors, facecolors, linewidths, linestyles, capstyle, joinstyle, antialiaseds, offsets, offset_transform, norm, cmap, pickradius, hatch, urls, zorder, **kwargs)\u001b[0m\n\u001b[1;32m    200\u001b[0m \u001b[38;5;28mself\u001b[39m\u001b[38;5;241m.\u001b[39m_offset_transform \u001b[38;5;241m=\u001b[39m offset_transform\n\u001b[1;32m    202\u001b[0m \u001b[38;5;28mself\u001b[39m\u001b[38;5;241m.\u001b[39m_path_effects \u001b[38;5;241m=\u001b[39m \u001b[38;5;28;01mNone\u001b[39;00m\n\u001b[0;32m--> 203\u001b[0m \u001b[38;5;28;43mself\u001b[39;49m\u001b[38;5;241;43m.\u001b[39;49m\u001b[43m_internal_update\u001b[49m\u001b[43m(\u001b[49m\u001b[43mkwargs\u001b[49m\u001b[43m)\u001b[49m\n\u001b[1;32m    204\u001b[0m \u001b[38;5;28mself\u001b[39m\u001b[38;5;241m.\u001b[39m_paths \u001b[38;5;241m=\u001b[39m \u001b[38;5;28;01mNone\u001b[39;00m\n",
      "File \u001b[0;32m/opt/conda/lib/python3.11/site-packages/matplotlib/artist.py:1219\u001b[0m, in \u001b[0;36mArtist._internal_update\u001b[0;34m(self, kwargs)\u001b[0m\n\u001b[1;32m   1212\u001b[0m \u001b[38;5;28;01mdef\u001b[39;00m \u001b[38;5;21m_internal_update\u001b[39m(\u001b[38;5;28mself\u001b[39m, kwargs):\n\u001b[1;32m   1213\u001b[0m \u001b[38;5;250m    \u001b[39m\u001b[38;5;124;03m\"\"\"\u001b[39;00m\n\u001b[1;32m   1214\u001b[0m \u001b[38;5;124;03m    Update artist properties without prenormalizing them, but generating\u001b[39;00m\n\u001b[1;32m   1215\u001b[0m \u001b[38;5;124;03m    errors as if calling `set`.\u001b[39;00m\n\u001b[1;32m   1216\u001b[0m \n\u001b[1;32m   1217\u001b[0m \u001b[38;5;124;03m    The lack of prenormalization is to maintain backcompatibility.\u001b[39;00m\n\u001b[1;32m   1218\u001b[0m \u001b[38;5;124;03m    \"\"\"\u001b[39;00m\n\u001b[0;32m-> 1219\u001b[0m     \u001b[38;5;28;01mreturn\u001b[39;00m \u001b[38;5;28;43mself\u001b[39;49m\u001b[38;5;241;43m.\u001b[39;49m\u001b[43m_update_props\u001b[49m\u001b[43m(\u001b[49m\n\u001b[1;32m   1220\u001b[0m \u001b[43m        \u001b[49m\u001b[43mkwargs\u001b[49m\u001b[43m,\u001b[49m\u001b[43m \u001b[49m\u001b[38;5;124;43m\"\u001b[39;49m\u001b[38;5;132;43;01m{cls.__name__}\u001b[39;49;00m\u001b[38;5;124;43m.set() got an unexpected keyword argument \u001b[39;49m\u001b[38;5;124;43m\"\u001b[39;49m\n\u001b[1;32m   1221\u001b[0m \u001b[43m        \u001b[49m\u001b[38;5;124;43m\"\u001b[39;49m\u001b[38;5;132;43;01m{prop_name!r}\u001b[39;49;00m\u001b[38;5;124;43m\"\u001b[39;49m\u001b[43m)\u001b[49m\n",
      "File \u001b[0;32m/opt/conda/lib/python3.11/site-packages/matplotlib/artist.py:1193\u001b[0m, in \u001b[0;36mArtist._update_props\u001b[0;34m(self, props, errfmt)\u001b[0m\n\u001b[1;32m   1191\u001b[0m             func \u001b[38;5;241m=\u001b[39m \u001b[38;5;28mgetattr\u001b[39m(\u001b[38;5;28mself\u001b[39m, \u001b[38;5;124mf\u001b[39m\u001b[38;5;124m\"\u001b[39m\u001b[38;5;124mset_\u001b[39m\u001b[38;5;132;01m{\u001b[39;00mk\u001b[38;5;132;01m}\u001b[39;00m\u001b[38;5;124m\"\u001b[39m, \u001b[38;5;28;01mNone\u001b[39;00m)\n\u001b[1;32m   1192\u001b[0m             \u001b[38;5;28;01mif\u001b[39;00m \u001b[38;5;129;01mnot\u001b[39;00m \u001b[38;5;28mcallable\u001b[39m(func):\n\u001b[0;32m-> 1193\u001b[0m                 \u001b[38;5;28;01mraise\u001b[39;00m \u001b[38;5;167;01mAttributeError\u001b[39;00m(\n\u001b[1;32m   1194\u001b[0m                     errfmt\u001b[38;5;241m.\u001b[39mformat(\u001b[38;5;28mcls\u001b[39m\u001b[38;5;241m=\u001b[39m\u001b[38;5;28mtype\u001b[39m(\u001b[38;5;28mself\u001b[39m), prop_name\u001b[38;5;241m=\u001b[39mk))\n\u001b[1;32m   1195\u001b[0m             ret\u001b[38;5;241m.\u001b[39mappend(func(v))\n\u001b[1;32m   1196\u001b[0m \u001b[38;5;28;01mif\u001b[39;00m ret:\n",
      "\u001b[0;31mAttributeError\u001b[0m: PolyCollection.set() got an unexpected keyword argument 'column'"
     ]
    },
    {
     "data": {
      "image/png": "[encoded data removed]",
      "text/plain": [
       "<Figure size 1000x400 with 2 Axes>"
      ]
     },
     "metadata": {},
     "output_type": "display_data"
    }
   ],
   "source": [
    "from splot.esda import plot_moran\n",
    "\n",
    "# Cluster map visualization\n",
    "fig, ax = plot_moran(moran, borough_ratio, column=\"Ratio_of_more_than_90\")\n",
    "ax.set_title(\"Moran's I Cluster Map\")\n",
    "plt.show()"
   ]
  },
  {
   "cell_type": "code",
   "execution_count": null,
   "id": "76ee3b83-839a-4597-ba8e-31505af8517e",
   "metadata": {},
   "outputs": [],
   "source": []
  }
 ],
 "metadata": {
  "kernelspec": {
   "display_name": "Python (base)",
   "language": "python",
   "name": "base"
  },
  "language_info": {
   "codemirror_mode": {
    "name": "ipython",
    "version": 3
   },
   "file_extension": ".py",
   "mimetype": "text/x-python",
   "name": "python",
   "nbconvert_exporter": "python",
   "pygments_lexer": "ipython3",
   "version": "3.11.9"
  }
 },
 "nbformat": 4,
 "nbformat_minor": 5
}
