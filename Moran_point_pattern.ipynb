{
 "cells": [
  {
   "cell_type": "code",
   "execution_count": 10,
   "id": "ede21b3b-577c-4e64-b14a-4cdc64462b0c",
   "metadata": {
    "scrolled": true
   },
   "outputs": [
    {
     "name": "stdout",
     "output_type": "stream",
     "text": [
      "<class 'pandas.core.frame.DataFrame'>\n",
      "RangeIndex: 91778 entries, 0 to 91777\n",
      "Data columns (total 18 columns):\n",
      " #   Column                          Non-Null Count  Dtype  \n",
      "---  ------                          --------------  -----  \n",
      " 0   id                              91778 non-null  int64  \n",
      " 1   name                            91778 non-null  object \n",
      " 2   host_id                         91778 non-null  int64  \n",
      " 3   host_name                       91773 non-null  object \n",
      " 4   neighbourhood_group             0 non-null      float64\n",
      " 5   neighbourhood                   91778 non-null  object \n",
      " 6   latitude                        91778 non-null  float64\n",
      " 7   longitude                       91778 non-null  float64\n",
      " 8   room_type                       91778 non-null  object \n",
      " 9   price                           87598 non-null  float64\n",
      " 10  minimum_nights                  91778 non-null  int64  \n",
      " 11  number_of_reviews               91778 non-null  int64  \n",
      " 12  last_review                     67655 non-null  object \n",
      " 13  reviews_per_month               67655 non-null  float64\n",
      " 14  calculated_host_listings_count  91778 non-null  int64  \n",
      " 15  availability_365                91778 non-null  int64  \n",
      " 16  number_of_reviews_ltm           91778 non-null  int64  \n",
      " 17  license                         0 non-null      float64\n",
      "dtypes: float64(6), int64(7), object(5)\n",
      "memory usage: 12.6+ MB\n",
      "None\n"
     ]
    }
   ],
   "source": [
    "#| echo: false\n",
    "import pandas as pd  \n",
    "import numpy as np  \n",
    "from scipy.stats import pearsonr, pointbiserialr, chi2_contingency  \n",
    "import matplotlib.pyplot as plt  \n",
    "from matplotlib.font_manager import FontProperties  \n",
    "\n",
    "# 加载数据  \n",
    "file_path = 'data/listings.csv'    # 使用用户提供的文件路径  \n",
    "airbnb_data = pd.read_csv(file_path)  \n",
    "\n",
    "# 查看数据基本信息  \n",
    "print(airbnb_data.info()) "
   ]
  },
  {
   "cell_type": "code",
   "execution_count": 11,
   "id": "3a60204d-93e8-4f8b-b503-6d574bd04b81",
   "metadata": {},
   "outputs": [],
   "source": [
    "# Calculate the estimation of nights booked for each listing\n",
    "airbnb_data = airbnb_data[airbnb_data['availability_365'] > 0] \n",
    "airbnb_data['estimated_nights_booked'] = airbnb_data['reviews_per_month'] * 12 * airbnb_data['minimum_nights'] * 2 "
   ]
  },
  {
   "cell_type": "code",
   "execution_count": 13,
   "id": "40780dff-4d6e-447f-bb83-1bad5522f06d",
   "metadata": {},
   "outputs": [],
   "source": [
    "#Data cleaning\n",
    "# Replace NaN with 0\n",
    "airbnb_data['estimated_nights_booked'] = airbnb_data['estimated_nights_booked'].fillna(0)\n",
    "\n",
    "# Convert the column to integers\n",
    "airbnb_data['estimated_nights_booked'] = airbnb_data['estimated_nights_booked'].astype(int)\n",
    "\n",
    "# Filter the DataFrame to include only rows where estimated_nights_booked is greater than 90\n",
    "filtered_data = airbnb_data[airbnb_data['estimated_nights_booked'] > 90]\n",
    "\n",
    "#Export to .csv\n",
    "filtered_data.to_csv('cleaned_listings.csv', index=False)"
   ]
  },
  {
   "cell_type": "code",
   "execution_count": null,
   "id": "7199af4e-b7c3-4764-b5ff-15e0ec135bff",
   "metadata": {},
   "outputs": [],
   "source": []
  }
 ],
 "metadata": {
  "kernelspec": {
   "display_name": "Python (base)",
   "language": "python",
   "name": "base"
  },
  "language_info": {
   "codemirror_mode": {
    "name": "ipython",
    "version": 3
   },
   "file_extension": ".py",
   "mimetype": "text/x-python",
   "name": "python",
   "nbconvert_exporter": "python",
   "pygments_lexer": "ipython3",
   "version": "3.11.9"
  }
 },
 "nbformat": 4,
 "nbformat_minor": 5
}
